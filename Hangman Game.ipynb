{
 "cells": [
  {
   "cell_type": "code",
   "execution_count": 4,
   "id": "6bc582b5",
   "metadata": {},
   "outputs": [
    {
     "name": "stdout",
     "output_type": "stream",
     "text": [
      "Welcome to Hangman!\n",
      "\n",
      "Word: _ _ _ _ _ _ _\n",
      "Guess a letter: h\n",
      "\n",
      "Word: h _ _ _ _ _ _\n",
      "Guess a letter: a\n",
      "\n",
      "Word: h a _ _ _ a _\n",
      "Guess a letter: n\n",
      "\n",
      "Word: h a n _ _ a n\n",
      "Guess a letter: g\n",
      "\n",
      "Word: h a n g _ a n\n",
      "Guess a letter: m\n",
      "\n",
      "Congratulations! You guessed the word: hangman\n"
     ]
    }
   ],
   "source": [
    "import random\n",
    "\n",
    "# List of words\n",
    "words = [\"python\", \"hangman\", \"programming\", \"developer\", \"challenge\"]\n",
    "\n",
    "# Select a random word\n",
    "word = random.choice(words)\n",
    "guessed_word = [\"_\"] * len(word)\n",
    "attempts = 6\n",
    "guessed_letters = set()\n",
    "\n",
    "print(\"Welcome to Hangman!\")\n",
    "\n",
    "while attempts > 0 and \"_\" in guessed_word:\n",
    "    print(\"\\nWord: \" + \" \".join(guessed_word))\n",
    "    guess = input(\"Guess a letter: \").lower()\n",
    "\n",
    "    if guess in guessed_letters:\n",
    "        print(\"You already guessed that letter.\")\n",
    "        continue\n",
    "\n",
    "    guessed_letters.add(guess)\n",
    "\n",
    "    if guess in word:\n",
    "        for i, letter in enumerate(word):\n",
    "            if letter == guess:\n",
    "                guessed_word[i] = guess\n",
    "    else:\n",
    "        attempts -= 1\n",
    "        print(f\"Wrong guess! {attempts} attempts left.\")\n",
    "\n",
    "if \"_\" not in guessed_word:\n",
    "    print(\"\\nCongratulations! You guessed the word:\", word)\n",
    "else:\n",
    "    print(\"\\nGame Over! The word was:\", word)\n"
   ]
  },
  {
   "cell_type": "code",
   "execution_count": null,
   "id": "f3a0068e",
   "metadata": {},
   "outputs": [],
   "source": []
  }
 ],
 "metadata": {
  "kernelspec": {
   "display_name": "Python 3 (ipykernel)",
   "language": "python",
   "name": "python3"
  },
  "language_info": {
   "codemirror_mode": {
    "name": "ipython",
    "version": 3
   },
   "file_extension": ".py",
   "mimetype": "text/x-python",
   "name": "python",
   "nbconvert_exporter": "python",
   "pygments_lexer": "ipython3",
   "version": "3.11.5"
  }
 },
 "nbformat": 4,
 "nbformat_minor": 5
}
